{
 "cells": [
  {
   "cell_type": "code",
   "execution_count": 1,
   "metadata": {
    "id": "ssrGyhY-gIFP"
   },
   "outputs": [],
   "source": [
    "import os\n",
    "os.chdir(\"..\")\n",
    "\n",
    "from wumpusWorld.agent.NaiveAgent import *\n",
    "from wumpusWorld.environment.Environment import *\n",
    "from wumpusWorld.environment.Percept import *\n",
    "from wumpusWorld.environment.Agent import *\n",
    "from wumpusWorld.environment.Action import *"
   ]
  },
  {
   "cell_type": "code",
   "execution_count": 5,
   "metadata": {},
   "outputs": [
    {
     "name": "stdout",
     "output_type": "stream",
     "text": [
      "-----INITIAL STATE-----\n",
      "    | P  |    |   W|\n",
      "    |    |  G |    |\n",
      "    |    | P  | P  |\n",
      "A   | P  |    |    |\n",
      "\n",
      "stench: False, breeze: True, glitter: False, bump: False, scream: False, isTerminated: False, reward: 0\n",
      "arrow: True, gold: False, alive: True\n",
      "\n",
      " -----STEP 0-----\n",
      "Grab\n",
      "    | P  |    |   W|\n",
      "    |    |  G |    |\n",
      "    |    | P  | P  |\n",
      "A   | P  |    |    |\n",
      "\n",
      "stench: False, breeze: True, glitter: False, bump: False, scream: False, isTerminated: False, reward: -1\n",
      "arrow: True, gold: False, alive: True\n",
      "\n",
      " -----STEP 1-----\n",
      "Forward\n",
      "stench: False, breeze: False, glitter: False, bump: False, scream: False, isTerminated: True, reward: -1002\n",
      "arrow: True, gold: False, alive: False\n"
     ]
    }
   ],
   "source": [
    "i=0\n",
    "\n",
    "initialEnv = Environment.create()\n",
    "agent = NaiveAgent.create()\n",
    "percept = Percept.create(initialEnv.isStench(Coords(0,0)), \n",
    "                         initialEnv.isBreeze(Coords(0,0)), \n",
    "                         initialEnv.isGlitter(Coords(0,0)))\n",
    "print(\"-----INITIAL STATE-----\")\n",
    "\n",
    "while not initialEnv.terminated:\n",
    "    initialEnv.visualize(agent)\n",
    "    percept.show()\n",
    "    agent.show()\n",
    "    print(\"\\n -----STEP \" + str(i) + \"-----\")\n",
    "    action = NaiveAgent.nextAction()\n",
    "    percept, agent = initialEnv.applyAction(percept, action, agent)\n",
    "    i+=1\n",
    "percept.show()\n",
    "agent.show()"
   ]
  },
  {
   "cell_type": "code",
   "execution_count": null,
   "metadata": {
    "id": "WUxHYKexnT_3"
   },
   "outputs": [],
   "source": [
    "import random\n",
    "import copy"
   ]
  },
  {
   "cell_type": "code",
   "execution_count": null,
   "metadata": {
    "id": "oMaETLYLTVRC"
   },
   "outputs": [],
   "source": [
    "action_pt = -1\n",
    "climb_w_gold = 1000\n",
    "death_pt = -1000\n",
    "arrow_pt = -10\n",
    "total_pt = 0"
   ]
  },
  {
   "cell_type": "code",
   "execution_count": null,
   "metadata": {
    "id": "o0quHLOQGyfv"
   },
   "outputs": [],
   "source": [
    "class Coords():\n",
    "  '''\n",
    "  This class is for storing x, y coordinates of WumpusWorld game board\n",
    "  '''  \n",
    "  def __init__(self, x, y):\n",
    "    self.x = x\n",
    "    self.y = y\n",
    "    \n",
    "  def __eq__(self, coords):\n",
    "    '''\n",
    "    Checks whether two coordinates point to the same place on the board\n",
    "    '''\n",
    "    return coords.x == self.x and coords.y == self.y"
   ]
  },
  {
   "cell_type": "code",
   "execution_count": null,
   "metadata": {
    "id": "2cG1UTD2ksVh"
   },
   "outputs": [],
   "source": [
    "class Action():\n",
    "  '''\n",
    "  Action class has 6 children classes:\n",
    "  Forward, TurnLeft, TurnRight, Grab, Climb, Shoot\n",
    "  These are all the moves an agent can make\n",
    "  It takes environment, percept, agent objects, and returns them with updated states\n",
    "  '''   \n",
    "  @staticmethod\n",
    "  def __call__(environment, percept, agent):\n",
    "    pass\n",
    "\n",
    "class Forward(Action):\n",
    "  '''\n",
    "  Forward action does the following:\n",
    "  Calls agent.forward() method to move the agent forward\n",
    "  Checks if the agent has moved into a pit or wumpus location - death\n",
    "  Checks if the agent has moved into a gold location\n",
    "  Returns updated environment, percept, agent objects\n",
    "  '''\n",
    "  @staticmethod\n",
    "  def __call__(environment, percept, agent):\n",
    "    agent.forward(environment.gridWidth, environment.gridHeight)\n",
    "    death = (environment.isWumpusAt(agent.location) and environment.wumpusAlive) \\\n",
    "             or environment.isPitAt(agent.location)\n",
    "    agent.isAlive =  not death\n",
    "    environment.goldLocation = agent.location if agent.hasGold \\\n",
    "                               else environment.goldLocation\n",
    "    environment.terminated = death\n",
    "    \n",
    "    return environment, Percept(environment.isStench(agent.location), \n",
    "                                environment.isBreeze(agent.location), \n",
    "                                environment.isGlitter(agent.location), \n",
    "                                agent.hasBumped, \n",
    "                                False, \n",
    "                                not agent.isAlive, \n",
    "                                percept.reward + action_pt if (agent.isAlive) \\\n",
    "                                  else percept.reward + action_pt + death_pt) \\\n",
    "                        ,agent\n",
    "\n",
    "class TurnLeft(Action):\n",
    "  '''\n",
    "  TurnLeft action calls agent.turnLeft() method\n",
    "  Returns updated environment, percept, agent objects\n",
    "  '''\n",
    "  @staticmethod\n",
    "  def __call__(environment, percept, agent):\n",
    "    agent.turnLeft()\n",
    "    return environment, Percept(environment.isStench(agent.location), \n",
    "                          environment.isBreeze(agent.location), \n",
    "                          environment.isGlitter(agent.location), \n",
    "                          False, \n",
    "                          False, \n",
    "                          False, \n",
    "                          percept.reward + action_pt) \\\n",
    "                        ,agent\n",
    "\n",
    "class TurnRight(Action):\n",
    "  '''\n",
    "  TurnLeft action calls agent.turnRight() method\n",
    "  Returns updated environment, percept, agent objects\n",
    "  '''\n",
    "  @staticmethod\n",
    "  def __call__(environment, percept, agent):\n",
    "    agent.turnRight()\n",
    "    return environment, Percept(environment.isStench(agent.location), \n",
    "                          environment.isBreeze(agent.location), \n",
    "                          environment.isGlitter(agent.location), \n",
    "                          False, \n",
    "                          False, \n",
    "                          False, \n",
    "                          percept.reward + action_pt) \\\n",
    "                        ,agent\n",
    "  \n",
    "class Grab(Action):\n",
    "  '''\n",
    "  If the location has Glitter, agent now has gold\n",
    "  Returns updated environment, percept, agent objects\n",
    "  '''\n",
    "  @staticmethod\n",
    "  def __call__(environment, percept, agent):\n",
    "    agent.hasGold = environment.isGlitter(agent.location)\n",
    "    environment.goldLocation = agent.location if agent.hasGold \\\n",
    "                               else environment.goldLocation\n",
    "    return environment, Percept(environment.isStench(agent.location), \n",
    "                        environment.isBreeze(agent.location), \n",
    "                        environment.isGlitter(agent.location), \n",
    "                        False, \n",
    "                        False, \n",
    "                        False, \n",
    "                        percept.reward + action_pt) \\\n",
    "                        ,agent\n",
    "\n",
    "\n",
    "class Climb(Action):\n",
    "  '''\n",
    "  The agent can only climb if it's in start location\n",
    "  Also checks if climbing without gold is allowed\n",
    "  Returns updated environment, percept, agent objects\n",
    "  '''  \n",
    "  @staticmethod\n",
    "  def __call__(environment, percept, agent):\n",
    "    inStartLocation = agent.location == Coords(0,0)\n",
    "    success = agent.hasGold and inStartLocation\n",
    "    isTerminated = success or (environment.allowClimbWithoutGold and inStartLocation)\n",
    "    environment.terminated = isTerminated\n",
    "    \n",
    "    return environment, Percept(False, \n",
    "                          False, \n",
    "                          environment.isGlitter(agent.location), \n",
    "                          False, \n",
    "                          False, \n",
    "                          isTerminated, \n",
    "                          percept.reward + action_pt + climb_w_gold if success else percept.reward + action_pt) \\\n",
    "                        ,agent\n",
    "\n",
    "class Shoot(Action):\n",
    "  '''\n",
    "  Calls environment.killAttemptSuccessful() to check if wumpus was on line of fire\n",
    "  Updates the agent to have no arrows\n",
    "  Returns updated environment, percept, agent objects\n",
    "  '''  \n",
    "  @staticmethod\n",
    "  def __call__(environment, percept, agent):\n",
    "    hadArrow = copy.copy(agent.hasArrow)\n",
    "    wumpusKilled = environment.killAttemptSuccessful(agent)\n",
    "    agent.hasArrow = False\n",
    "    environment.wumpusAlive = environment.wumpusAlive and not wumpusKilled\n",
    "\n",
    "    return environment, Percept(environment.isStench(agent.location), \n",
    "                          environment.isBreeze(agent.location), \n",
    "                          environment.isGlitter(agent.location), \n",
    "                          False, \n",
    "                          wumpusKilled, \n",
    "                          False, \n",
    "                          percept.reward + action_pt + arrow_pt if hadArrow else percept.reward + action_pt) \\\n",
    "                        ,agent"
   ]
  },
  {
   "cell_type": "code",
   "execution_count": null,
   "metadata": {
    "id": "ARljpsBGFGE_"
   },
   "outputs": [],
   "source": [
    "class Orientation():\n",
    "  '''\n",
    "  This class keeps track of agent's orientation\n",
    "  Has a child class -> Agent\n",
    "  If turnLeft -> switch into the previous orientation in the list\n",
    "  If turnRight -> switch into the next orientation in the list\n",
    "  '''\n",
    "  def __init__(self, orientation = \"East\"):\n",
    "    self.orient_list = [\"North\", \"East\", \"South\", \"West\", \"North\", \"West\"]\n",
    "    self.orientation = orientation\n",
    "\n",
    "  def turnLeft(self):\n",
    "    ind = self.orient_list.index(self.orientation)\n",
    "    self.orientation = self.orient_list[ind-1]\n",
    "\n",
    "  def turnRight(self):\n",
    "    ind = self.orient_list.index(self.orientation)\n",
    "    self.orientation = self.orient_list[ind+1]"
   ]
  },
  {
   "cell_type": "code",
   "execution_count": null,
   "metadata": {},
   "outputs": [],
   "source": [
    "class Agent(Orientation):\n",
    "    '''\n",
    "    Keeps track of Agent's state within the environment - hidden from the agent itself\n",
    "    \n",
    "    '''\n",
    "    def __init__(self, \n",
    "                 orientation = \"East\",\n",
    "                 location = Coords(0, 0),\n",
    "                 hasBumped = False,\n",
    "                 hasGold = False,\n",
    "                 hasArrow = True,\n",
    "                 isAlive = True):\n",
    "      super().__init__()\n",
    "      self.location = location\n",
    "      self.hasBumped = hasBumped\n",
    "      self.hasGold = hasGold\n",
    "      self.hasArrow = hasArrow\n",
    "      self.isAlive = isAlive\n",
    "    \n",
    "    def forward(self, gridWidth: int, gridHeight: int):\n",
    "      '''\n",
    "      Depending on the orientation and initial location, move the agent into the next cell\n",
    "      If the agent hits the wall, the agent hasBumped\n",
    "      '''  \n",
    "      prev_location = copy.copy(self.location)\n",
    "\n",
    "      if self.orientation == \"West\":\n",
    "        self.location = Coords(max(0, self.location.x - 1), self.location.y)\n",
    "      elif self.orientation == \"East\":\n",
    "        self.location = Coords(min(gridWidth - 1, self.location.x + 1), self.location.y)\n",
    "      elif self.orientation == \"South\":\n",
    "        self.location = Coords(self.location.x, max(0, self.location.y - 1), )\n",
    "      elif self.orientation == \"North\":\n",
    "        self.location = Coords(self.location.x, min(gridHeight - 1, self.location.y + 1), )\n",
    "\n",
    "      self.hasBumped = prev_location == self.location"
   ]
  },
  {
   "cell_type": "code",
   "execution_count": null,
   "metadata": {
    "id": "PdNfdlO4hOX5"
   },
   "outputs": [],
   "source": [
    "class Percept():\n",
    "  '''\n",
    "  This class keeps track of agent's perceptions\n",
    "  '''  \n",
    "  def __init__(self,\n",
    "               stench: bool, \n",
    "               breeze: bool, \n",
    "               glitter: bool, \n",
    "               bump: bool, \n",
    "               scream: bool, \n",
    "               isTerminated: bool, \n",
    "               reward: int):\n",
    "    self.stench = stench\n",
    "    self.breeze = breeze\n",
    "    self.glitter = glitter\n",
    "    self.bump = bump\n",
    "    self.scream = scream\n",
    "    self.isTerminated = isTerminated\n",
    "    self.reward = reward\n",
    "\n",
    "  @staticmethod  \n",
    "  def create(stench: bool, \n",
    "             breeze: bool, \n",
    "             glitter: bool):\n",
    "    return Percept(stench, breeze, glitter, False, False, False, 0)\n",
    "\n",
    "  def show(self):\n",
    "    print(\"stench: \", self.stench, \", breeze: \", self.breeze, \", glitter: \", self.glitter, \", bump: \", self.bump,\n",
    "          \", scream: \", self.scream, \", isTerminated: \", self.isTerminated, \", reward: \", self.reward, sep=\"\")"
   ]
  },
  {
   "cell_type": "code",
   "execution_count": null,
   "metadata": {
    "id": "mI4V7L7Bi43b"
   },
   "outputs": [],
   "source": [
    "class Environment():\n",
    "  '''\n",
    "  This class builds the board: generates a random wumpus location, gold location,\n",
    "  pit locations, and keeps track of the state of the game\n",
    "  '''  \n",
    "  def __init__(self,\n",
    "               pitLocations: list,\n",
    "               wumpusLocation: Coords,\n",
    "               goldLocation: Coords,\n",
    "               gridWidth: int = 4,\n",
    "               gridHeight: int = 4,\n",
    "               pitProb: float = 0.2,\n",
    "               allowClimbWithoutGold: bool = True,\n",
    "               terminated: bool = False,\n",
    "               wumpusAlive: bool = True):\n",
    "    \n",
    "    self.gridWidth = gridWidth\n",
    "    self.gridHeight = gridHeight\n",
    "    self.pitProb = pitProb\n",
    "    self.allowClimbWithoutGold = allowClimbWithoutGold\n",
    "    self.pitLocations = pitLocations\n",
    "    self.terminated = terminated\n",
    "    self.wumpusLocation = wumpusLocation\n",
    "    self.wumpusAlive = wumpusAlive\n",
    "    self.goldLocation = goldLocation\n",
    "\n",
    "  def isPitAt(self, coords : Coords):\n",
    "    return coords in self.pitLocations\n",
    "\n",
    "  def isWumpusAt(self, coords: Coords):\n",
    "    return self.wumpusLocation == coords\n",
    "\n",
    "  def isAgentAt(self, agent: Agent, coords: Coords):\n",
    "    return agent.location == coords\n",
    "\n",
    "  def isGlitter(self, coords: Coords):\n",
    "    return self.goldLocation == coords\n",
    "\n",
    "  def isGoldAt(self, coords: Coords):\n",
    "    return self.goldLocation == coords\n",
    "\n",
    "  def killAttemptSuccessful(self, agent: Agent):\n",
    "    '''\n",
    "    Depending on the agent's location and orientation, check if the wumpus in in line of fire\n",
    "    '''    \n",
    "    if agent.orientation == \"West\":\n",
    "      wumpusInLineOfFire = agent.location.x > self.wumpusLocation.x and agent.location.y == self.wumpusLocation.y\n",
    "    elif agent.orientation == \"East\":\n",
    "      wumpusInLineOfFire = agent.location.x < self.wumpusLocation.x and agent.location.y == self.wumpusLocation.y\n",
    "    elif agent.orientation == \"South\":\n",
    "      wumpusInLineOfFire = agent.location.x == self.wumpusLocation.x and agent.location.y > self.wumpusLocation.y\n",
    "    elif agent.orientation == \"North\":\n",
    "      wumpusInLineOfFire = agent.location.x == self.wumpusLocation.x and agent.location.y < self.wumpusLocation.y\n",
    "\n",
    "    return wumpusInLineOfFire and agent.hasArrow and self.wumpusAlive\n",
    "\n",
    "  def adjacentCells(self, coords: Coords):\n",
    "    '''\n",
    "    Given certain x,y coordinates, return a list of all adjacent cells (no diagonal cells)\n",
    "    '''    \n",
    "    toLeft = [Coords(coords.x - 1, coords.y)] if coords.x > 0 else []\n",
    "    toRight = [Coords(coords.x + 1, coords.y)] if (coords.x < self.gridWidth - 1) else []\n",
    "    below = [Coords(coords.x, coords.y - 1)] if (coords.y > 0) else []\n",
    "    above = [Coords(coords.x, coords.y + 1)] if coords.y < self.gridHeight - 1 else []\n",
    "    return toLeft + toRight + below + above\n",
    "\n",
    "  def isPitAdjacent(self, coords: Coords):\n",
    "    return any(cell in self.pitLocations for cell in self.adjacentCells(coords))\n",
    "\n",
    "  def isWumpusAdjacent(self, coords: Coords):\n",
    "    return self.wumpusLocation in self.adjacentCells(coords)\n",
    "\n",
    "  def isBreeze(self, coords: Coords):\n",
    "    return self.isPitAdjacent(coords)\n",
    "\n",
    "  def isStench(self, coords: Coords):\n",
    "    return self.isWumpusAdjacent(coords) or self.isWumpusAt(coords)\n",
    "    \n",
    "  def applyAction(self, percept: Percept, action: Action, agent: Agent):\n",
    "    '''\n",
    "    Lets the agent act only if the game is not terminated\n",
    "    '''\n",
    "    if self.terminated:\n",
    "      percept = Percept(False, False, False, False, False, True, 0)\n",
    "    else:\n",
    "      self, percept, agent = action(self, percept, agent)\n",
    "    return percept, agent\n",
    "\n",
    "  def visualize(self, agent: Agent):\n",
    "    '''\n",
    "    Simple visualization of the game - show where are the pits, gold, wumpus and the agent\n",
    "    If the wumpus is alive, show capital \"W\", if not, lower case \"w\"\n",
    "    '''    \n",
    "    wumpusSymbol = \"W\" if self.wumpusAlive else \"w\"\n",
    "    s = \"\"\n",
    "    for j in range(self.gridHeight-1, -1, -1):\n",
    "      for i in range(self.gridWidth):\n",
    "        s = s + \"A\" if self.isAgentAt(agent, Coords(i,j)) else s + \" \"\n",
    "        s = s + \"P\" if self.isPitAt(Coords(i,j)) else s + \" \"\n",
    "        s = s + \"G\" if self.isGoldAt(Coords(i,j)) else s + \" \"\n",
    "        s = s + wumpusSymbol if self.isWumpusAt(Coords(i,j)) else s + \" \"\n",
    "        s += \"|\"\n",
    "      s += \"\\n\"\n",
    "    print(s)\n",
    "  \n",
    "  '''\n",
    "  initialize the environment\n",
    "  '''\n",
    "  @staticmethod\n",
    "  def create(gridWidth: int = 4,\n",
    "             gridHeight: int = 4,\n",
    "             pitProb: float = 0.2,\n",
    "             allowClimbWithoutGold: bool = True):\n",
    "\n",
    "    def randomLocationExceptOrigin():\n",
    "      x = random.randint(0, gridWidth-1)\n",
    "      y = random.randint(0, gridHeight-1)\n",
    "      if x == 0 and y == 0:\n",
    "        return randomLocationExceptOrigin()\n",
    "      else:\n",
    "        return Coords(x, y)\n",
    "    \n",
    "    def pitLocations():\n",
    "      '''\n",
    "      loops through each cell on the board (except the origin)\n",
    "      puts the pit in the cell if the randomly generated\n",
    "      number exceeds a given probability\n",
    "      '''\n",
    "      pitList = []\n",
    "      for i in range(0, gridWidth):\n",
    "        for j in range(0, gridHeight):\n",
    "          if random.random() < pitProb and not (i==0 and j == 0):\n",
    "           pitList.append(Coords(i,j))\n",
    "      return pitList\n",
    "    \n",
    "    return Environment(gridWidth = gridWidth,\n",
    "                        gridHeight = gridHeight,\n",
    "                        pitProb = pitProb,\n",
    "                        allowClimbWithoutGold = allowClimbWithoutGold,\n",
    "                        pitLocations = pitLocations(),\n",
    "                        terminated = False,\n",
    "                        wumpusLocation = randomLocationExceptOrigin(),\n",
    "                        wumpusAlive = True,\n",
    "                        goldLocation = randomLocationExceptOrigin())"
   ]
  },
  {
   "cell_type": "code",
   "execution_count": null,
   "metadata": {
    "id": "5Goe3kP6i28I"
   },
   "outputs": [],
   "source": [
    "class NaiveAgent():\n",
    "  def __init__(self):\n",
    "    pass\n",
    "\n",
    "  @staticmethod\n",
    "  def create():\n",
    "    return Agent()\n",
    "  \n",
    "  @staticmethod\n",
    "  def nextAction():\n",
    "    actions = {\n",
    "          0: Forward(),\n",
    "          1: TurnLeft(),\n",
    "          2: TurnRight(),\n",
    "          3: Shoot(),\n",
    "          4: Grab(),\n",
    "          5: Climb()\n",
    "    }\n",
    "    actions_str = {\n",
    "          0: 'Forward',\n",
    "          1: 'TurnLeft',\n",
    "          2: 'TurnRight',\n",
    "          3: 'Shoot',\n",
    "          4: 'Grab',\n",
    "          5: 'Climb'\n",
    "    }\n",
    "    \n",
    "    randm_int = random.randint(0, 5)\n",
    "    print(actions_str.get(randm_int))\n",
    "    return actions.get(randm_int)"
   ]
  },
  {
   "cell_type": "code",
   "execution_count": null,
   "metadata": {},
   "outputs": [],
   "source": [
    "initialEnv = Environment.create()"
   ]
  },
  {
   "cell_type": "code",
   "execution_count": null,
   "metadata": {},
   "outputs": [],
   "source": [
    "agent = NaiveAgent.create()"
   ]
  },
  {
   "cell_type": "code",
   "execution_count": null,
   "metadata": {},
   "outputs": [],
   "source": [
    "percept = Percept.create(initialEnv.isStench(Coords(0,0)), \n",
    "                         initialEnv.isBreeze(Coords(0,0)), \n",
    "                         initialEnv.isGlitter(Coords(0,0)))"
   ]
  },
  {
   "cell_type": "code",
   "execution_count": null,
   "metadata": {},
   "outputs": [],
   "source": [
    "initialEnv, percept, agent = Forward()(initialEnv, percept, agent)"
   ]
  },
  {
   "cell_type": "code",
   "execution_count": null,
   "metadata": {},
   "outputs": [],
   "source": [
    "initialEnv, percept, agent = TurnLeft()(initialEnv, percept, agent)"
   ]
  },
  {
   "cell_type": "code",
   "execution_count": null,
   "metadata": {},
   "outputs": [],
   "source": [
    "initialEnv, percept, agent = TurnRight()(initialEnv, percept, agent)"
   ]
  },
  {
   "cell_type": "code",
   "execution_count": null,
   "metadata": {},
   "outputs": [],
   "source": [
    "initialEnv.terminated"
   ]
  },
  {
   "cell_type": "code",
   "execution_count": null,
   "metadata": {},
   "outputs": [],
   "source": [
    "initialEnv.visualize(agent)"
   ]
  },
  {
   "cell_type": "code",
   "execution_count": null,
   "metadata": {},
   "outputs": [],
   "source": [
    "def randomLEO():\n",
    "      x = random.randint(0, 1)\n",
    "      y = random.randint(0, 1)\n",
    "      if x == 0 and y == 0:\n",
    "        return randomLEO()\n",
    "      else:\n",
    "        return [x,y]"
   ]
  },
  {
   "cell_type": "code",
   "execution_count": null,
   "metadata": {},
   "outputs": [],
   "source": [
    "print(randomLEO())"
   ]
  },
  {
   "cell_type": "code",
   "execution_count": null,
   "metadata": {},
   "outputs": [],
   "source": []
  },
  {
   "cell_type": "code",
   "execution_count": null,
   "metadata": {},
   "outputs": [],
   "source": [
    "initialEnv.terminated"
   ]
  },
  {
   "cell_type": "code",
   "execution_count": null,
   "metadata": {},
   "outputs": [],
   "source": [
    "a=  Forward()"
   ]
  },
  {
   "cell_type": "code",
   "execution_count": null,
   "metadata": {},
   "outputs": [],
   "source": [
    "c,d = a(initialEnv, percept)"
   ]
  },
  {
   "cell_type": "code",
   "execution_count": null,
   "metadata": {},
   "outputs": [],
   "source": [
    "c.visualize()"
   ]
  },
  {
   "cell_type": "code",
   "execution_count": null,
   "metadata": {},
   "outputs": [],
   "source": [
    "c.terminated"
   ]
  },
  {
   "cell_type": "code",
   "execution_count": null,
   "metadata": {},
   "outputs": [],
   "source": [
    "b = initialEnv.Agent()"
   ]
  },
  {
   "cell_type": "code",
   "execution_count": null,
   "metadata": {},
   "outputs": [],
   "source": [
    "b.forward(4,4)"
   ]
  },
  {
   "cell_type": "code",
   "execution_count": null,
   "metadata": {},
   "outputs": [],
   "source": [
    "initialEnv.wumpusLocation.y"
   ]
  },
  {
   "cell_type": "code",
   "execution_count": null,
   "metadata": {},
   "outputs": [],
   "source": [
    "agent"
   ]
  }
 ],
 "metadata": {
  "colab": {
   "collapsed_sections": [],
   "name": "Assignment 1.ipynb",
   "provenance": []
  },
  "kernelspec": {
   "display_name": "Python 3",
   "language": "python",
   "name": "python3"
  },
  "language_info": {
   "codemirror_mode": {
    "name": "ipython",
    "version": 3
   },
   "file_extension": ".py",
   "mimetype": "text/x-python",
   "name": "python",
   "nbconvert_exporter": "python",
   "pygments_lexer": "ipython3",
   "version": "3.8.5"
  }
 },
 "nbformat": 4,
 "nbformat_minor": 1
}
